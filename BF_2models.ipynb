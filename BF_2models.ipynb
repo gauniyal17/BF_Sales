{
 "cells": [
  {
   "cell_type": "code",
   "execution_count": 1,
   "id": "c042e0f2",
   "metadata": {},
   "outputs": [],
   "source": [
    "import numpy as np\n",
    "import seaborn as sns\n",
    "import pandas as pd\n",
    "import warnings\n",
    "warnings.filterwarnings('ignore')"
   ]
  },
  {
   "cell_type": "code",
   "execution_count": 2,
   "id": "6534d592",
   "metadata": {},
   "outputs": [],
   "source": [
    "data=pd.read_csv('C:/Data Analyst/Data Analysis with python/Datasets/train.csv')\n"
   ]
  },
  {
   "cell_type": "code",
   "execution_count": 3,
   "id": "cae07296",
   "metadata": {},
   "outputs": [],
   "source": [
    "# data['Product_Category_2'].fillna(-1,inplace=True)\n",
    "\n",
    "# data['Product_Category_3'].fillna(-1,inplace=True)\n",
    "data['Product_Category_2'].fillna(0,inplace=True)\n",
    "\n",
    "data['Product_Category_3'].fillna(0,inplace=True)"
   ]
  },
  {
   "cell_type": "code",
   "execution_count": null,
   "id": "6defd9cc",
   "metadata": {},
   "outputs": [
    {
     "name": "stdout",
     "output_type": "stream",
     "text": [
      "<class 'pandas.core.frame.DataFrame'>\n",
      "RangeIndex: 550068 entries, 0 to 550067\n",
      "Data columns (total 11 columns):\n",
      " #   Column                      Non-Null Count   Dtype  \n",
      "---  ------                      --------------   -----  \n",
      " 0   Gender                      550068 non-null  object \n",
      " 1   Age                         550068 non-null  object \n",
      " 2   Occupation                  550068 non-null  int64  \n",
      " 3   City_Category               550068 non-null  object \n",
      " 4   Stay_In_Current_City_Years  550068 non-null  object \n",
      " 5   Marital_Status              550068 non-null  int64  \n",
      " 6   Product_Category_1          550068 non-null  int64  \n",
      " 7   Product_Category_2          550068 non-null  float64\n",
      " 8   Product_Category_3          550068 non-null  float64\n",
      " 9   Purchase                    550068 non-null  int64  \n",
      " 10  Total_Product               550068 non-null  float64\n",
      "dtypes: float64(3), int64(4), object(4)\n",
      "memory usage: 46.2+ MB\n"
     ]
    }
   ],
   "source": [
    "data['Total_Product']=data['Product_Category_1']+data['Product_Category_2']+data['Product_Category_3'] #did this for better accuracy.\n",
    "\n",
    "\n",
    "data.drop(columns=['User_ID','Product_ID'],inplace=True)\n",
    "\n",
    "data.info()\n"
   ]
  },
  {
   "cell_type": "code",
   "execution_count": 5,
   "id": "f25b9315",
   "metadata": {},
   "outputs": [
    {
     "data": {
      "image/png": "[encoded data removed]",
      "text/plain": [
       "<Figure size 640x480 with 1 Axes>"
      ]
     },
     "metadata": {},
     "output_type": "display_data"
    }
   ],
   "source": [
    "\n",
    "import matplotlib.pyplot as plt\n",
    "\n",
    "sns.boxplot(x=data['Purchase'])\n",
    "plt.show()"
   ]
  },
  {
   "cell_type": "code",
   "execution_count": 6,
   "id": "4185e69a",
   "metadata": {},
   "outputs": [],
   "source": [
    "Q1 = data['Purchase'].quantile(0.25)\n",
    "Q3 = data['Purchase'].quantile(0.75)\n",
    "IQR = Q3 - Q1\n",
    "\n",
    "lower_limit = Q1 - 1.5 * IQR\n",
    "upper_limit = Q3 + 1.5 * IQR\n",
    "\n",
    "outliers = data[(data['Purchase'] < lower_limit) | (data['Purchase'] > upper_limit)]\n",
    "data = data[(data['Purchase'] >= lower_limit) & (data['Purchase'] <= upper_limit)]\n",
    "\n"
   ]
  },
  {
   "cell_type": "code",
   "execution_count": null,
   "id": "812298e1",
   "metadata": {},
   "outputs": [
    {
     "data": {
      "image/png": "[encoded data removed]",
      "text/plain": [
       "<Figure size 640x480 with 1 Axes>"
      ]
     },
     "metadata": {},
     "output_type": "display_data"
    }
   ],
   "source": [
    "import matplotlib.pyplot as plt\n",
    "\n",
    "plt.hist(data['Purchase'], bins=30)  \n",
    "plt.xlabel('Purchase Amount')\n",
    "plt.ylabel('Frequency')\n",
    "plt.title('Distribution of Purchase Amount')\n",
    "plt.show()\n"
   ]
  },
  {
   "cell_type": "code",
   "execution_count": null,
   "id": "8978f46e",
   "metadata": {},
   "outputs": [],
   "source": [
    "from sklearn.model_selection import train_test_split\n",
    "\n",
    "data['Stay_In_Current_City_Years']=data['Stay_In_Current_City_Years'].replace('4+',4).astype(int)\n",
    "\n",
    "X = data.drop('Purchase', axis=1)  \n",
    "y = data['Purchase']  \n",
    "\n",
    "\n",
    "# Segment the data based on the purchase\n",
    "segment_1 = data[data['Purchase'] <= 10000]  # People spending between 0-10k\n",
    "segment_2 = data[(data['Purchase'] > 10000) & (data['Purchase'] <= 25000)]  # People spending between 10k-25k\n",
    "\n",
    "\n",
    "# Segment 1: People spending between 0-10k\n",
    "X_segment_1 = segment_1.drop('Purchase', axis=1)\n",
    "y_segment_1 = segment_1['Purchase']\n",
    "\n",
    "# Segment 2: People spending between 10k-25k\n",
    "X_segment_2 = segment_2.drop('Purchase', axis=1)\n",
    "y_segment_2 = segment_2['Purchase']\n",
    "\n",
    "# Spliting each segment into train and test sets\n",
    "X_train_1, X_test_1, y_train_1, y_test_1 = train_test_split(X_segment_1, y_segment_1, test_size=0.3, random_state=42)\n",
    "X_train_2, X_test_2, y_train_2, y_test_2 = train_test_split(X_segment_2, y_segment_2, test_size=0.3, random_state=42)"
   ]
  },
  {
   "cell_type": "code",
   "execution_count": 24,
   "id": "e2d6fe00",
   "metadata": {},
   "outputs": [
    {
     "data": {
      "text/plain": [
       "Index(['Gender', 'Age', 'Occupation', 'City_Category',\n",
       "       'Stay_In_Current_City_Years', 'Marital_Status', 'Product_Category_1',\n",
       "       'Product_Category_2', 'Product_Category_3', 'Total_Product'],\n",
       "      dtype='object')"
      ]
     },
     "execution_count": 24,
     "metadata": {},
     "output_type": "execute_result"
    }
   ],
   "source": [
    "X_train_1.columns"
   ]
  },
  {
   "cell_type": "code",
   "execution_count": null,
   "id": "127c49f1",
   "metadata": {},
   "outputs": [],
   "source": [
    "# import numpy as np\n",
    "# from scipy.stats import boxcox\n",
    "\n",
    "# # Apply Box-Cox to the training target variables (y_train_1, y_train_2)\n",
    "# y_train_1, lambda_1 = boxcox(y_train_1)\n",
    "# y_train_2, lambda_2 = boxcox(y_train_2)\n",
    "\n",
    "# # Apply the same Box-Cox transformation to the test target variables (y_test_1, y_test_2)\n",
    "#  Using the same lambda values to transform the test data\n",
    "# y_test_1 = (y_test_1 ** lambda_1 - 1) / lambda_1 if lambda_1 != 0 else np.log(y_test_1)\n",
    "# y_test_2 = (y_test_2 ** lambda_2 - 1) / lambda_2 if lambda_2 != 0 else np.log(y_test_2)\n",
    "\n",
    "# # Check transformed values\n",
    "# print(\"Transformed y_train_1:\", y_train_1[:5])  \n",
    "# print(\"Transformed y_train_2:\", y_train_2[:5])  \n",
    "# print(\"Transformed y_test_1:\", y_test_1[:5])    \n",
    "# print(\"Transformed y_test_2:\", y_test_2[:5])    \n"
   ]
  },
  {
   "cell_type": "code",
   "execution_count": null,
   "id": "7c808d6d",
   "metadata": {},
   "outputs": [
    {
     "name": "stdout",
     "output_type": "stream",
     "text": [
      "Segment 1 Categorical Columns: ['Gender', 'Age', 'City_Category']\n",
      "Segment 1 Numerical Columns: ['Occupation', 'Stay_In_Current_City_Years', 'Marital_Status', 'Product_Category_1', 'Product_Category_2', 'Product_Category_3', 'Total_Product']\n",
      "Segment 2 Categorical Columns: ['Gender', 'Age', 'City_Category']\n",
      "Segment 2 Numerical Columns: ['Occupation', 'Stay_In_Current_City_Years', 'Marital_Status', 'Product_Category_1', 'Product_Category_2', 'Product_Category_3', 'Total_Product']\n"
     ]
    }
   ],
   "source": [
    "from sklearn.preprocessing import OneHotEncoder\n",
    "from sklearn.compose import ColumnTransformer\n",
    "import pandas as pd\n",
    "import numpy as np\n",
    "\n",
    "\n",
    "# Segment 1\n",
    "\n",
    "\n",
    "# Identifying categorical and numerical columns\n",
    "cat_cols_1 = [col for col in X_train_1.columns if X_train_1[col].dtype == 'O']\n",
    "num_cols_1 = [col for col in X_train_1.columns if col not in cat_cols_1]\n",
    "\n",
    "print(\"Segment 1 Categorical Columns:\", cat_cols_1)\n",
    "print(\"Segment 1 Numerical Columns:\", num_cols_1)\n",
    "\n",
    "# Defining ColumnTransformer for segment 1\n",
    "column_transformer_1 = ColumnTransformer(\n",
    "    transformers=[\n",
    "        ('encoder', OneHotEncoder(drop='first'), cat_cols_1)\n",
    "    ],\n",
    "    remainder='passthrough'\n",
    ")\n",
    "\n",
    "# Fit and transform segment 1\n",
    "X_train_1_encoded = column_transformer_1.fit_transform(X_train_1)\n",
    "X_test_1_encoded = column_transformer_1.transform(X_test_1)\n",
    "\n",
    "#final feature names\n",
    "encoded_feature_names_1 = column_transformer_1.named_transformers_['encoder'].get_feature_names_out(cat_cols_1)\n",
    "final_feature_names_1 = np.concatenate([encoded_feature_names_1, num_cols_1])\n",
    "\n",
    "# Converting to DataFrame\n",
    "X_train_1_transformed = pd.DataFrame(X_train_1_encoded, columns=final_feature_names_1, index=X_train_1.index)\n",
    "X_test_1_transformed = pd.DataFrame(X_test_1_encoded, columns=final_feature_names_1, index=X_test_1.index)\n",
    "\n",
    "\n",
    "\n",
    "#Segment 2\n",
    "\n",
    "\n",
    "# Identifying categorical and numerical columns\n",
    "cat_cols_2 = [col for col in X_train_2.columns if X_train_2[col].dtype == 'O']\n",
    "num_cols_2 = [col for col in X_train_2.columns if col not in cat_cols_2]\n",
    "\n",
    "print(\"Segment 2 Categorical Columns:\", cat_cols_2)\n",
    "print(\"Segment 2 Numerical Columns:\", num_cols_2)\n",
    "\n",
    "# Defining ColumnTransformer for segment 2\n",
    "column_transformer_2 = ColumnTransformer(\n",
    "    transformers=[\n",
    "        ('encoder', OneHotEncoder(drop='first'), cat_cols_2)\n",
    "    ],\n",
    "    remainder='passthrough'\n",
    ")\n",
    "\n",
    "# Fit and transform segment 2\n",
    "X_train_2_encoded = column_transformer_2.fit_transform(X_train_2)\n",
    "X_test_2_encoded = column_transformer_2.transform(X_test_2)\n",
    "\n",
    "#final feature names\n",
    "encoded_feature_names_2 = column_transformer_2.named_transformers_['encoder'].get_feature_names_out(cat_cols_2)\n",
    "final_feature_names_2 = np.concatenate([encoded_feature_names_2, num_cols_2])\n",
    "\n",
    "# Converting to DataFrame\n",
    "X_train_2_transformed = pd.DataFrame(X_train_2_encoded, columns=final_feature_names_2, index=X_train_2.index)\n",
    "X_test_2_transformed = pd.DataFrame(X_test_2_encoded, columns=final_feature_names_2, index=X_test_2.index)\n"
   ]
  },
  {
   "cell_type": "code",
   "execution_count": null,
   "id": "e6d37b1e",
   "metadata": {},
   "outputs": [
    {
     "name": "stdout",
     "output_type": "stream",
     "text": [
      "======= Segment 1 Results =======\n",
      "\n",
      "Training Accuracy:\n",
      "Training MSE: 2937497.5440057414\n",
      "Training MAE: 1375.6461969145523\n",
      "Training R2: 0.49627232320832293\n",
      "\n",
      "Testing Accuracy:\n",
      "Testing MSE: 3244600.7303970614\n",
      "Testing MAE: 1448.93446597892\n",
      "Testing R2: 0.44151192410689\n",
      "\n",
      "======= Segment 2 Results =======\n",
      "\n",
      "Training Accuracy:\n",
      "Training MSE: 5863561.4532957645\n",
      "Training MAE: 1961.8581602976574\n",
      "Training R2: 0.39440846287783937\n",
      "\n",
      "Testing Accuracy:\n",
      "Testing MSE: 6952482.091584319\n",
      "Testing MAE: 2139.7076436859006\n",
      "Testing R2: 0.27981636079459526\n",
      "\n"
     ]
    }
   ],
   "source": [
    "from sklearn.ensemble import RandomForestRegressor\n",
    "from sklearn.metrics import mean_absolute_error, mean_squared_error, r2_score\n",
    "from sklearn.base import clone\n",
    "\n",
    "#model definition\n",
    "base_model = RandomForestRegressor(\n",
    "    n_estimators=100,\n",
    "    min_samples_split=10,\n",
    "    min_samples_leaf=4,\n",
    "    max_features='sqrt',\n",
    "    max_depth=20,\n",
    "    bootstrap=True,\n",
    "    n_jobs=-1,\n",
    "    random_state=42\n",
    ")\n",
    "\n",
    "\n",
    "#Segment 1\n",
    "\n",
    "print(\"======= Segment 1 Results =======\\n\")\n",
    "\n",
    "model_low = clone(base_model)\n",
    "model_low.fit(X_train_1_transformed, y_train_1)\n",
    "\n",
    "# Predictions\n",
    "y_train_1_pred = model_low.predict(X_train_1_transformed)\n",
    "y_test_1_pred = model_low.predict(X_test_1_transformed)\n",
    "\n",
    "print(\"Training Accuracy:\")\n",
    "print(f'Training MSE: {mean_squared_error(y_train_1, y_train_1_pred)}')\n",
    "print(f'Training MAE: {mean_absolute_error(y_train_1, y_train_1_pred)}')\n",
    "print(f'Training R2: {r2_score(y_train_1, y_train_1_pred)}\\n')\n",
    "\n",
    "print(\"Testing Accuracy:\")\n",
    "print(f'Testing MSE: {mean_squared_error(y_test_1, y_test_1_pred)}')\n",
    "print(f'Testing MAE: {mean_absolute_error(y_test_1, y_test_1_pred)}')\n",
    "print(f'Testing R2: {r2_score(y_test_1, y_test_1_pred)}\\n')\n",
    "\n",
    "\n",
    "#Segment 2\n",
    "\n",
    "print(\"======= Segment 2 Results =======\\n\")\n",
    "\n",
    "model_high = clone(base_model)\n",
    "model_high.fit(X_train_2_transformed, y_train_2)\n",
    "\n",
    "# Predictions\n",
    "y_train_2_pred = model_high.predict(X_train_2_transformed)\n",
    "y_test_2_pred = model_high.predict(X_test_2_transformed)\n",
    "\n",
    "print(\"Training Accuracy:\")\n",
    "print(f'Training MSE: {mean_squared_error(y_train_2, y_train_2_pred)}')\n",
    "print(f'Training MAE: {mean_absolute_error(y_train_2, y_train_2_pred)}')\n",
    "print(f'Training R2: {r2_score(y_train_2, y_train_2_pred)}\\n')\n",
    "\n",
    "print(\"Testing Accuracy:\")\n",
    "print(f'Testing MSE: {mean_squared_error(y_test_2, y_test_2_pred)}')\n",
    "print(f'Testing MAE: {mean_absolute_error(y_test_2, y_test_2_pred)}')\n",
    "print(f'Testing R2: {r2_score(y_test_2, y_test_2_pred)}\\n')\n"
   ]
  },
  {
   "cell_type": "code",
   "execution_count": null,
   "id": "3a25bb9e",
   "metadata": {},
   "outputs": [
    {
     "name": "stdout",
     "output_type": "stream",
     "text": [
      "    Actual     Predicted\n",
      "0     8370   6602.664604\n",
      "1    15200  15853.384302\n",
      "3     1057   1496.271143\n",
      "8    15686  15659.443749\n",
      "11    3957   6548.098581\n"
     ]
    }
   ],
   "source": [
    "import pandas as pd\n",
    "\n",
    "#DataFrames from predictions\n",
    "df_pred_1 = pd.DataFrame({\n",
    "    'Actual': y_test_1,\n",
    "    'Predicted': y_test_1_pred\n",
    "}, index=y_test_1.index)\n",
    "\n",
    "df_pred_2 = pd.DataFrame({\n",
    "    'Actual': y_test_2,\n",
    "    'Predicted': y_test_2_pred\n",
    "}, index=y_test_2.index)\n",
    "\n",
    "# Combining both predictions\n",
    "final_predictions = pd.concat([df_pred_1, df_pred_2])\n",
    "\n",
    "# Sorting by index\n",
    "final_predictions = final_predictions.sort_index()\n",
    "\n",
    "# Final output\n",
    "print(final_predictions.head())\n"
   ]
  },
  {
   "cell_type": "code",
   "execution_count": 13,
   "id": "79b1886a",
   "metadata": {},
   "outputs": [
    {
     "name": "stdout",
     "output_type": "stream",
     "text": [
      "Combined R2 Score: 0.8151\n"
     ]
    }
   ],
   "source": [
    "from sklearn.metrics import r2_score\n",
    "\n",
    "# Combined R2 score\n",
    "combined_r2 = r2_score(final_predictions['Actual'], final_predictions['Predicted'])\n",
    "\n",
    "print(f'Combined R2 Score: {combined_r2:.4f}')\n"
   ]
  },
  {
   "cell_type": "code",
   "execution_count": null,
   "id": "5d403f62",
   "metadata": {},
   "outputs": [
    {
     "name": "stdout",
     "output_type": "stream",
     "text": [
      "Combined Training R2 Score: 0.8386\n"
     ]
    }
   ],
   "source": [
    "from sklearn.metrics import r2_score\n",
    "\n",
    "#DataFrames for training predictions\n",
    "df_train_pred_1 = pd.DataFrame({\n",
    "    'Actual': y_train_1,\n",
    "    'Predicted': y_train_1_pred\n",
    "}, index=y_train_1.index)\n",
    "\n",
    "df_train_pred_2 = pd.DataFrame({\n",
    "    'Actual': y_train_2,\n",
    "    'Predicted': y_train_2_pred\n",
    "}, index=y_train_2.index)\n",
    "\n",
    "# Combining both train predictions\n",
    "final_train_predictions = pd.concat([df_train_pred_1, df_train_pred_2])\n",
    "\n",
    "# Sorting by index\n",
    "final_train_predictions = final_train_predictions.sort_index()\n",
    "\n",
    "#Training R2\n",
    "combined_train_r2 = r2_score(final_train_predictions['Actual'], final_train_predictions['Predicted'])\n",
    "\n",
    "print(f'Combined Training R2 Score: {combined_train_r2:.4f}')\n"
   ]
  },
  {
   "cell_type": "code",
   "execution_count": null,
   "id": "58fd14d3",
   "metadata": {},
   "outputs": [],
   "source": [
    "#TUNING THE HYPERPARAMETERS\n",
    "\n",
    "\n",
    "\n",
    "# from sklearn.model_selection import RandomizedSearchCV\n",
    "# from sklearn.ensemble import RandomForestRegressor\n",
    "# import numpy as np\n",
    "\n",
    "\n",
    "# param_dist = {\n",
    "#     'n_estimators': [100, 200, 300],  \n",
    "#     'max_depth': [None, 10, 20, 30],   \n",
    "#     'min_samples_split': [2, 5, 10],   \n",
    "#     'min_samples_leaf': [1, 2, 4],     \n",
    "#     'max_features': ['sqrt', 'log2'],  \n",
    "#     'bootstrap': [True, False]         \n",
    "# }\n",
    "\n",
    "\n",
    "# rf_model = RandomForestRegressor(random_state=42)\n",
    "\n",
    "\n",
    "# random_search = RandomizedSearchCV(estimator=rf_model, param_distributions=param_dist,\n",
    "#                                    n_iter=100, cv=3, verbose=2, random_state=42, n_jobs=-1, error_score='raise')\n",
    "\n",
    "\n",
    "# random_search.fit(X_train_1_transformed, y_train_1)  \n",
    "# random_search.fit(X_train_2_transformed, y_train_2)  \n",
    "\n",
    "\n",
    "# best_params_1 = random_search.best_params_\n",
    "# best_params_2 = random_search.best_params_\n",
    "\n",
    "# print(\"Best Parameters for Segment 1:\", best_params_1)\n",
    "# print(\"Best Parameters for Segment 2:\", best_params_2)\n",
    "\n",
    "\n",
    "# best_rf_model_1 = random_search.best_estimator_\n",
    "# best_rf_model_2 = random_search.best_estimator_\n",
    "\n",
    "\n",
    "# y_train_1_pred = best_rf_model_1.predict(X_train_1_transformed)\n",
    "# y_train_2_pred = best_rf_model_2.predict(X_train_2_transformed)\n",
    "\n",
    "\n",
    "# from sklearn.metrics import r2_score\n",
    "# print(f\"Training R² for Segment 1: {r2_score(y_train_1, y_train_1_pred):.4f}\")\n",
    "# print(f\"Training R² for Segment 2: {r2_score(y_train_2, y_train_2_pred):.4f}\")\n",
    "\n",
    "\n",
    "# y_test_1_pred = best_rf_model_1.predict(X_test_1_transformed)\n",
    "# y_test_2_pred = best_rf_model_2.predict(X_test_2_transformed)\n",
    "\n",
    "\n",
    "# print(f\"Test R² for Segment 1: {r2_score(y_test_1, y_test_1_pred):.4f}\")\n",
    "# print(f\"Test R² for Segment 2: {r2_score(y_test_2, y_test_2_pred):.4f}\")\n"
   ]
  },
  {
   "cell_type": "code",
   "execution_count": null,
   "id": "77c0e695",
   "metadata": {},
   "outputs": [
    {
     "data": {
      "text/plain": [
       "['transformer_segment2.pkl']"
      ]
     },
     "execution_count": 22,
     "metadata": {},
     "output_type": "execute_result"
    }
   ],
   "source": [
    "import joblib\n",
    "\n",
    "#trained models for both segments\n",
    "joblib.dump(model_low, 'random_forest_segment1.pkl')\n",
    "joblib.dump(model_high, 'random_forest_segment2.pkl')\n",
    "\n",
    "#transformers for both segments\n",
    "joblib.dump(column_transformer_1, 'transformer_segment1.pkl')\n",
    "joblib.dump(column_transformer_2, 'transformer_segment2.pkl')\n"
   ]
  },
  {
   "cell_type": "code",
   "execution_count": null,
   "id": "bd998c4f",
   "metadata": {},
   "outputs": [],
   "source": []
  }
 ],
 "metadata": {
  "kernelspec": {
   "display_name": "base",
   "language": "python",
   "name": "python3"
  },
  "language_info": {
   "codemirror_mode": {
    "name": "ipython",
    "version": 3
   },
   "file_extension": ".py",
   "mimetype": "text/x-python",
   "name": "python",
   "nbconvert_exporter": "python",
   "pygments_lexer": "ipython3",
   "version": "3.12.7"
  }
 },
 "nbformat": 4,
 "nbformat_minor": 5
}
